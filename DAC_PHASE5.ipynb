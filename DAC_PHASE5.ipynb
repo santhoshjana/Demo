{
  "metadata": {
    "language_info": {
      "codemirror_mode": {
        "name": "python",
        "version": 3
      },
      "file_extension": ".py",
      "mimetype": "text/x-python",
      "name": "python",
      "nbconvert_exporter": "python",
      "pygments_lexer": "ipython3",
      "version": "3.8"
    },
    "kernelspec": {
      "name": "python",
      "display_name": "Python (Pyodide)",
      "language": "python"
    }
  },
  "nbformat_minor": 4,
  "nbformat": 4,
  "cells": [
    {
      "cell_type": "code",
      "source": "#DATA PREPARATION FROM THE GIVEN DATA SET https://www.kaggle.com/datasets/rednivrug/unisys?select=20140711.CSV",
      "metadata": {},
      "execution_count": null,
      "outputs": []
    },
    {
      "cell_type": "code",
      "source": "import pandas as pd\n\n# Load your dataset\ndata = pd.read_csv('20140711(1) - Copy.csv')\n\n# Data cleaning and preprocessing, if necessary\n",
      "metadata": {
        "tags": [],
        "trusted": true
      },
      "execution_count": 2,
      "outputs": [
        {
          "name": "stderr",
          "text": "<ipython-input-2-f0c3079498d5>:4: DtypeWarning: Columns (1) have mixed types. Specify dtype option on import or set low_memory=False.\n  data = pd.read_csv('20140711(1) - Copy.csv')\n",
          "output_type": "stream"
        }
      ]
    },
    {
      "cell_type": "code",
      "source": "# Calculate punctuality rates",
      "metadata": {},
      "execution_count": null,
      "outputs": []
    },
    {
      "cell_type": "code",
      "source": "\non_time_threshold = 5  # Define your on-time threshold in minutes\ndata['On-Time'] = data['NumberOfBoardings'] - on_time_threshold > 0\npunctuality_rate = data['On-Time'].sum() / len(data)\nprint(f\"Punctuality Rate: {punctuality_rate * 100:.2f}%\")\n",
      "metadata": {
        "trusted": true
      },
      "execution_count": 3,
      "outputs": [
        {
          "name": "stdout",
          "text": "Punctuality Rate: 19.15%\n",
          "output_type": "stream"
        }
      ]
    },
    {
      "cell_type": "code",
      "source": "# Define a threshold for high and low demand",
      "metadata": {},
      "execution_count": null,
      "outputs": []
    },
    {
      "cell_type": "code",
      "source": "\nhigh_demand_threshold = 100  # Adjust based on your data and criteria\n\n# Create a new column for sentiment (indirect)\ndata['Sentiment'] = 'Low'\ndata.loc[data['NumberOfBoardings'] >= high_demand_threshold, 'Sentiment'] = 'High'\n\n# Visualize the sentiment distribution\nsentiment_distribution = data['Sentiment'].value_counts()\nprint(sentiment_distribution)\n",
      "metadata": {
        "trusted": true
      },
      "execution_count": 4,
      "outputs": [
        {
          "name": "stdout",
          "text": "Low     1048390\nHigh        185\nName: Sentiment, dtype: int64\n",
          "output_type": "stream"
        }
      ]
    },
    {
      "cell_type": "code",
      "source": "#Visualizationof Sentiment distribution",
      "metadata": {},
      "execution_count": null,
      "outputs": []
    },
    {
      "cell_type": "code",
      "source": "import matplotlib.pyplot as plt\n\n# Example: Create a bar chart to visualize sentiment distribution\nsentiment_distribution.plot(kind='bar')\nplt.title('Sentiment Distribution')\nplt.xlabel('Sentiment')\nplt.ylabel('Count')\nplt.show()\n",
      "metadata": {
        "trusted": true
      },
      "execution_count": 4,
      "outputs": [
        {
          "output_type": "display_data",
          "data": {
            "text/plain": "<Figure size 640x480 with 1 Axes>",
            "image/png": "[encoded data removed]"
          },
          "metadata": {}
        }
      ]
    },
    {
      "cell_type": "code",
      "source": "",
      "metadata": {},
      "execution_count": null,
      "outputs": []
    }
  ]
}